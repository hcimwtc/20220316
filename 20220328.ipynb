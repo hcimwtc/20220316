{
  "nbformat": 4,
  "nbformat_minor": 0,
  "metadata": {
    "colab": {
      "name": "20220328.ipynb",
      "provenance": [],
      "collapsed_sections": [],
      "authorship_tag": "ABX9TyNGHAHa6c3LkNNaAZJL+aBb",
      "include_colab_link": true
    },
    "kernelspec": {
      "name": "python3",
      "display_name": "Python 3"
    },
    "language_info": {
      "name": "python"
    }
  },
  "cells": [
    {
      "cell_type": "markdown",
      "metadata": {
        "id": "view-in-github",
        "colab_type": "text"
      },
      "source": [
        "<a href=\"https://colab.research.google.com/github/hcimwtc/ENGL437_22Spring/blob/main/20220328.ipynb\" target=\"_parent\"><img src=\"https://colab.research.google.com/assets/colab-badge.svg\" alt=\"Open In Colab\"/></a>"
      ]
    },
    {
      "cell_type": "code",
      "execution_count": null,
      "metadata": {
        "id": "F9NSdrXAbrdD"
      },
      "outputs": [],
      "source": [
        "!pip install gradio\n",
        "import gradio as gr\n",
        "import requests\n",
        "import pandas as pd"
      ]
    },
    {
      "cell_type": "code",
      "source": [
        "URL = ('http://apis.data.go.kr/1262000/CountryOverseasArrivalsService/'\n",
        "      'getCountryOverseasArrivalsList?'\n",
        "      '&pageNo=1'\n",
        "      '&numOfRows=10'\n",
        "      '&returnType=json'\n",
        "      '&serviceKey=p55lMkuXQ7ey3YZXFYzEBAxBnMMQfolcXcXruLSQQEhtI1bDAcR%2BLSYhJ3i5xqZYcIzTq0FW%2BdiExXyKztLRdQ%3D%3D')\n",
        "\n",
        "response = requests.get(URL)"
      ],
      "metadata": {
        "id": "X2fkjtpvbxzy"
      },
      "execution_count": 16,
      "outputs": []
    },
    {
      "cell_type": "code",
      "source": [
        "response"
      ],
      "metadata": {
        "id": "kyte6ckZgOr_"
      },
      "execution_count": null,
      "outputs": []
    },
    {
      "cell_type": "code",
      "source": [
        "r = response.json()\n",
        "r"
      ],
      "metadata": {
        "id": "YMjr6ZmxcG9p"
      },
      "execution_count": null,
      "outputs": []
    },
    {
      "cell_type": "code",
      "source": [
        "print(type(r))"
      ],
      "metadata": {
        "id": "bLmPB2f1g_no"
      },
      "execution_count": null,
      "outputs": []
    },
    {
      "cell_type": "code",
      "source": [
        "items = r['data']\n",
        "items"
      ],
      "metadata": {
        "id": "fMGoR6HehES0"
      },
      "execution_count": null,
      "outputs": []
    },
    {
      "cell_type": "code",
      "source": [
        "import pandas as pd\n",
        "country_eng_nm = [item['country_eng_nm'] for item in items]\n",
        "country_iso_alp2 = [item['country_iso_alp2'] for item in items]\n",
        "country_nm = [item['country_nm'] for item in items]\n",
        "notice_id = [item['notice_id'] for item in items]\n",
        "title = [item['title'] for item in items]\n",
        "wrt_dt = [item ['wrt_dt'] for item in items]\n",
        "\n",
        "country_eng_nm = pd.Series(country_eng_nm)\n",
        "country_iso_alp2 = pd.Series(country_iso_alp2)\n",
        "country_nm = pd.Series(country_nm)\n",
        "notice_id = pd.Series(notice_id)\n",
        "title = pd.Series(title)\n",
        "wrt_dt = pd.Series(wrt_dt)\n",
        "\n",
        "df = pd.DataFrame({'ENG': country_eng_nm, 'Code': country_iso_alp2, 'KOR' : country_nm, 'Notice ID' : notice_id, 'Title' : title, 'Last Updated Date' : wrt_dt })"
      ],
      "metadata": {
        "id": "5vRgJEfLjTuG"
      },
      "execution_count": 84,
      "outputs": []
    },
    {
      "cell_type": "code",
      "source": [
        "df"
      ],
      "metadata": {
        "colab": {
          "base_uri": "https://localhost:8080/",
          "height": 363
        },
        "id": "_yLez6zDxH-U",
        "outputId": "e6d3689f-d3f7-4dbc-b46d-fc8666a06be4"
      },
      "execution_count": 85,
      "outputs": [
        {
          "output_type": "execute_result",
          "data": {
            "text/plain": [
              "           ENG Code     KOR         Notice ID                        Title  \\\n",
              "0       Guinea   GN      기니  ATC0000000008615  각국의 해외입국자에 대한 조치 현황(국가 순서별)   \n",
              "1        Gabon   GA      가봉  ATC0000000008609  각국의 해외입국자에 대한 조치 현황(국가 순서별)   \n",
              "2    Indonesia   ID   인도네시아  ATC0000000008722  각국의 해외입국자에 대한 조치 현황(국가 순서별)   \n",
              "3    Australia   AU      호주  ATC0000000008773  각국의 해외입국자에 대한 조치 현황(국가 순서별)   \n",
              "4       Greece   GR     그리스  ATC0000000008614  각국의 해외입국자에 대한 조치 현황(국가 순서별)   \n",
              "5      Nigeria   NG   나이지리아  ATC0000000008618  각국의 해외입국자에 대한 조치 현황(국가 순서별)   \n",
              "6   Madagascar   MG  마다가스카르  ATC0000000008638  각국의 해외입국자에 대한 조치 현황(국가 순서별)   \n",
              "7    Mauritius   MU    모리셔스  ATC0000000008642  각국의 해외입국자에 대한 조치 현황(국가 순서별)   \n",
              "8  New Zealand   NZ    뉴질랜드  ATC0000000008599  각국의 해외입국자에 대한 조치 현황(국가 순서별)   \n",
              "9       Russia   RU     러시아  ATC0000000008630  각국의 해외입국자에 대한 조치 현황(국가 순서별)   \n",
              "\n",
              "  Last Updated Date  \n",
              "0        2022-03-28  \n",
              "1        2022-03-28  \n",
              "2        2022-03-28  \n",
              "3        2022-03-28  \n",
              "4        2022-03-28  \n",
              "5        2022-03-28  \n",
              "6        2022-03-28  \n",
              "7        2022-03-28  \n",
              "8        2022-03-28  \n",
              "9        2022-03-28  "
            ],
            "text/html": [
              "\n",
              "  <div id=\"df-90639a0a-e86c-4ffb-9f45-58b76f04d4ea\">\n",
              "    <div class=\"colab-df-container\">\n",
              "      <div>\n",
              "<style scoped>\n",
              "    .dataframe tbody tr th:only-of-type {\n",
              "        vertical-align: middle;\n",
              "    }\n",
              "\n",
              "    .dataframe tbody tr th {\n",
              "        vertical-align: top;\n",
              "    }\n",
              "\n",
              "    .dataframe thead th {\n",
              "        text-align: right;\n",
              "    }\n",
              "</style>\n",
              "<table border=\"1\" class=\"dataframe\">\n",
              "  <thead>\n",
              "    <tr style=\"text-align: right;\">\n",
              "      <th></th>\n",
              "      <th>ENG</th>\n",
              "      <th>Code</th>\n",
              "      <th>KOR</th>\n",
              "      <th>Notice ID</th>\n",
              "      <th>Title</th>\n",
              "      <th>Last Updated Date</th>\n",
              "    </tr>\n",
              "  </thead>\n",
              "  <tbody>\n",
              "    <tr>\n",
              "      <th>0</th>\n",
              "      <td>Guinea</td>\n",
              "      <td>GN</td>\n",
              "      <td>기니</td>\n",
              "      <td>ATC0000000008615</td>\n",
              "      <td>각국의 해외입국자에 대한 조치 현황(국가 순서별)</td>\n",
              "      <td>2022-03-28</td>\n",
              "    </tr>\n",
              "    <tr>\n",
              "      <th>1</th>\n",
              "      <td>Gabon</td>\n",
              "      <td>GA</td>\n",
              "      <td>가봉</td>\n",
              "      <td>ATC0000000008609</td>\n",
              "      <td>각국의 해외입국자에 대한 조치 현황(국가 순서별)</td>\n",
              "      <td>2022-03-28</td>\n",
              "    </tr>\n",
              "    <tr>\n",
              "      <th>2</th>\n",
              "      <td>Indonesia</td>\n",
              "      <td>ID</td>\n",
              "      <td>인도네시아</td>\n",
              "      <td>ATC0000000008722</td>\n",
              "      <td>각국의 해외입국자에 대한 조치 현황(국가 순서별)</td>\n",
              "      <td>2022-03-28</td>\n",
              "    </tr>\n",
              "    <tr>\n",
              "      <th>3</th>\n",
              "      <td>Australia</td>\n",
              "      <td>AU</td>\n",
              "      <td>호주</td>\n",
              "      <td>ATC0000000008773</td>\n",
              "      <td>각국의 해외입국자에 대한 조치 현황(국가 순서별)</td>\n",
              "      <td>2022-03-28</td>\n",
              "    </tr>\n",
              "    <tr>\n",
              "      <th>4</th>\n",
              "      <td>Greece</td>\n",
              "      <td>GR</td>\n",
              "      <td>그리스</td>\n",
              "      <td>ATC0000000008614</td>\n",
              "      <td>각국의 해외입국자에 대한 조치 현황(국가 순서별)</td>\n",
              "      <td>2022-03-28</td>\n",
              "    </tr>\n",
              "    <tr>\n",
              "      <th>5</th>\n",
              "      <td>Nigeria</td>\n",
              "      <td>NG</td>\n",
              "      <td>나이지리아</td>\n",
              "      <td>ATC0000000008618</td>\n",
              "      <td>각국의 해외입국자에 대한 조치 현황(국가 순서별)</td>\n",
              "      <td>2022-03-28</td>\n",
              "    </tr>\n",
              "    <tr>\n",
              "      <th>6</th>\n",
              "      <td>Madagascar</td>\n",
              "      <td>MG</td>\n",
              "      <td>마다가스카르</td>\n",
              "      <td>ATC0000000008638</td>\n",
              "      <td>각국의 해외입국자에 대한 조치 현황(국가 순서별)</td>\n",
              "      <td>2022-03-28</td>\n",
              "    </tr>\n",
              "    <tr>\n",
              "      <th>7</th>\n",
              "      <td>Mauritius</td>\n",
              "      <td>MU</td>\n",
              "      <td>모리셔스</td>\n",
              "      <td>ATC0000000008642</td>\n",
              "      <td>각국의 해외입국자에 대한 조치 현황(국가 순서별)</td>\n",
              "      <td>2022-03-28</td>\n",
              "    </tr>\n",
              "    <tr>\n",
              "      <th>8</th>\n",
              "      <td>New Zealand</td>\n",
              "      <td>NZ</td>\n",
              "      <td>뉴질랜드</td>\n",
              "      <td>ATC0000000008599</td>\n",
              "      <td>각국의 해외입국자에 대한 조치 현황(국가 순서별)</td>\n",
              "      <td>2022-03-28</td>\n",
              "    </tr>\n",
              "    <tr>\n",
              "      <th>9</th>\n",
              "      <td>Russia</td>\n",
              "      <td>RU</td>\n",
              "      <td>러시아</td>\n",
              "      <td>ATC0000000008630</td>\n",
              "      <td>각국의 해외입국자에 대한 조치 현황(국가 순서별)</td>\n",
              "      <td>2022-03-28</td>\n",
              "    </tr>\n",
              "  </tbody>\n",
              "</table>\n",
              "</div>\n",
              "      <button class=\"colab-df-convert\" onclick=\"convertToInteractive('df-90639a0a-e86c-4ffb-9f45-58b76f04d4ea')\"\n",
              "              title=\"Convert this dataframe to an interactive table.\"\n",
              "              style=\"display:none;\">\n",
              "        \n",
              "  <svg xmlns=\"http://www.w3.org/2000/svg\" height=\"24px\"viewBox=\"0 0 24 24\"\n",
              "       width=\"24px\">\n",
              "    <path d=\"M0 0h24v24H0V0z\" fill=\"none\"/>\n",
              "    <path d=\"M18.56 5.44l.94 2.06.94-2.06 2.06-.94-2.06-.94-.94-2.06-.94 2.06-2.06.94zm-11 1L8.5 8.5l.94-2.06 2.06-.94-2.06-.94L8.5 2.5l-.94 2.06-2.06.94zm10 10l.94 2.06.94-2.06 2.06-.94-2.06-.94-.94-2.06-.94 2.06-2.06.94z\"/><path d=\"M17.41 7.96l-1.37-1.37c-.4-.4-.92-.59-1.43-.59-.52 0-1.04.2-1.43.59L10.3 9.45l-7.72 7.72c-.78.78-.78 2.05 0 2.83L4 21.41c.39.39.9.59 1.41.59.51 0 1.02-.2 1.41-.59l7.78-7.78 2.81-2.81c.8-.78.8-2.07 0-2.86zM5.41 20L4 18.59l7.72-7.72 1.47 1.35L5.41 20z\"/>\n",
              "  </svg>\n",
              "      </button>\n",
              "      \n",
              "  <style>\n",
              "    .colab-df-container {\n",
              "      display:flex;\n",
              "      flex-wrap:wrap;\n",
              "      gap: 12px;\n",
              "    }\n",
              "\n",
              "    .colab-df-convert {\n",
              "      background-color: #E8F0FE;\n",
              "      border: none;\n",
              "      border-radius: 50%;\n",
              "      cursor: pointer;\n",
              "      display: none;\n",
              "      fill: #1967D2;\n",
              "      height: 32px;\n",
              "      padding: 0 0 0 0;\n",
              "      width: 32px;\n",
              "    }\n",
              "\n",
              "    .colab-df-convert:hover {\n",
              "      background-color: #E2EBFA;\n",
              "      box-shadow: 0px 1px 2px rgba(60, 64, 67, 0.3), 0px 1px 3px 1px rgba(60, 64, 67, 0.15);\n",
              "      fill: #174EA6;\n",
              "    }\n",
              "\n",
              "    [theme=dark] .colab-df-convert {\n",
              "      background-color: #3B4455;\n",
              "      fill: #D2E3FC;\n",
              "    }\n",
              "\n",
              "    [theme=dark] .colab-df-convert:hover {\n",
              "      background-color: #434B5C;\n",
              "      box-shadow: 0px 1px 3px 1px rgba(0, 0, 0, 0.15);\n",
              "      filter: drop-shadow(0px 1px 2px rgba(0, 0, 0, 0.3));\n",
              "      fill: #FFFFFF;\n",
              "    }\n",
              "  </style>\n",
              "\n",
              "      <script>\n",
              "        const buttonEl =\n",
              "          document.querySelector('#df-90639a0a-e86c-4ffb-9f45-58b76f04d4ea button.colab-df-convert');\n",
              "        buttonEl.style.display =\n",
              "          google.colab.kernel.accessAllowed ? 'block' : 'none';\n",
              "\n",
              "        async function convertToInteractive(key) {\n",
              "          const element = document.querySelector('#df-90639a0a-e86c-4ffb-9f45-58b76f04d4ea');\n",
              "          const dataTable =\n",
              "            await google.colab.kernel.invokeFunction('convertToInteractive',\n",
              "                                                     [key], {});\n",
              "          if (!dataTable) return;\n",
              "\n",
              "          const docLinkHtml = 'Like what you see? Visit the ' +\n",
              "            '<a target=\"_blank\" href=https://colab.research.google.com/notebooks/data_table.ipynb>data table notebook</a>'\n",
              "            + ' to learn more about interactive tables.';\n",
              "          element.innerHTML = '';\n",
              "          dataTable['output_type'] = 'display_data';\n",
              "          await google.colab.output.renderOutput(dataTable, element);\n",
              "          const docLink = document.createElement('div');\n",
              "          docLink.innerHTML = docLinkHtml;\n",
              "          element.appendChild(docLink);\n",
              "        }\n",
              "      </script>\n",
              "    </div>\n",
              "  </div>\n",
              "  "
            ]
          },
          "metadata": {},
          "execution_count": 85
        }
      ]
    },
    {
      "cell_type": "code",
      "source": [
        "def test(country):\n",
        "  URL = ('http://apis.data.go.kr/1262000/CountryOverseasArrivalsService/'\n",
        "      'getCountryOverseasArrivalsList?'\n",
        "      '&pageNo=1'\n",
        "      '&numOfRows=10'\n",
        "      '&returnType=json'\n",
        "      '&serviceKey=p55lMkuXQ7ey3YZXFYzEBAxBnMMQfolcXcXruLSQQEhtI1bDAcR%2BLSYhJ3i5xqZYcIzTq0FW%2BdiExXyKztLRdQ%3D%3D')\n",
        "\n",
        "  response = requests.get(URL)\n",
        "  r = response.json()\n",
        "  items = r['data']\n",
        "\n",
        "  country_eng_nm = [item['country_eng_nm'] for item in items]\n",
        "  country_iso_alp2 = [item['country_iso_alp2'] for item in items]\n",
        "  country_nm = [item['country_nm'] for item in items]\n",
        "  notice_id = [item['notice_id'] for item in items]\n",
        "  title = [item['title'] for item in items]\n",
        "\n",
        "  wrt_dt = [item ['wrt_dt'] for item in items]\n",
        "\n",
        "  country_eng_nm = pd.Series(country_eng_nm)\n",
        "  country_iso_alp2 = pd.Series(country_iso_alp2)\n",
        "  country_nm = pd.Series(country_nm)\n",
        "  notice_id = pd.Series(notice_id)\n",
        "  title = pd.Series(title)\n",
        "  wrt_dt = pd.Series(wrt_dt)\n",
        "  \n",
        "  df = pd.DataFrame({'ENG': country_eng_nm, 'Code': country_iso_alp2, 'KOR' : country_nm,'Notice ID' : notice_id, 'Title' : title, 'Last Updated Date' : wrt_dt })\n",
        "  return df"
      ],
      "metadata": {
        "id": "09lIhpKXp9gT"
      },
      "execution_count": 86,
      "outputs": []
    },
    {
      "cell_type": "code",
      "source": [
        "iface = gr.Interface(test, gr.inputs.Dropdown(['CLick to See the Countires List']), outputs=['dataframe'])\n",
        "iface.launch(debug=True)"
      ],
      "metadata": {
        "colab": {
          "base_uri": "https://localhost:8080/",
          "height": 591
        },
        "id": "HEijgahqn6aP",
        "outputId": "a44f39b1-c784-4625-ef54-66215ef72376"
      },
      "execution_count": null,
      "outputs": [
        {
          "output_type": "stream",
          "name": "stdout",
          "text": [
            "Colab notebook detected. This cell will run indefinitely so that you can see errors and logs. To turn off, set debug=False in launch().\n",
            "Running on public URL: https://29535.gradio.app\n",
            "\n",
            "This share link expires in 72 hours. For free permanent hosting, check out Spaces (https://huggingface.co/spaces)\n"
          ]
        },
        {
          "output_type": "display_data",
          "data": {
            "text/plain": [
              "<IPython.lib.display.IFrame at 0x7f6c50238ed0>"
            ],
            "text/html": [
              "\n",
              "        <iframe\n",
              "            width=\"900\"\n",
              "            height=\"500\"\n",
              "            src=\"https://29535.gradio.app\"\n",
              "            frameborder=\"0\"\n",
              "            allowfullscreen\n",
              "        ></iframe>\n",
              "        "
            ]
          },
          "metadata": {}
        }
      ]
    }
  ]
}