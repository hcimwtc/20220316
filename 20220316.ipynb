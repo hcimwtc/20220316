{
  "nbformat": 4,
  "nbformat_minor": 0,
  "metadata": {
    "colab": {
      "name": "20220316.ipynb",
      "provenance": [],
      "authorship_tag": "ABX9TyNOaRaWCCmIYqbmz9aWQEdx",
      "include_colab_link": true
    },
    "kernelspec": {
      "name": "python3",
      "display_name": "Python 3"
    },
    "language_info": {
      "name": "python"
    }
  },
  "cells": [
    {
      "cell_type": "markdown",
      "metadata": {
        "id": "view-in-github",
        "colab_type": "text"
      },
      "source": [
        "<a href=\"https://colab.research.google.com/github/hcimwtc/20220316/blob/main/20220316.ipynb\" target=\"_parent\"><img src=\"https://colab.research.google.com/assets/colab-badge.svg\" alt=\"Open In Colab\"/></a>"
      ]
    },
    {
      "cell_type": "markdown",
      "source": [
        "첫 2주에 배웠던 것: \n",
        "\n",
        "Python:\n",
        "- variables (number: int & float. eg. a=1 ; text. eg. x= \"python\" both ' ' & \" \" are applicable )\n",
        "- strings ( a part of variables)\n",
        "- syntax  ( condition if ; iteration for)\n",
        "- function* ( includes both variable and syntax. a process from input to output) \n",
        "- packages (=library in other pgm lang ; a collection of different functions for a particular purpose)\n",
        "- import (package를 불러 오는 것)\n",
        "-"
      ],
      "metadata": {
        "id": "5pD4ssUAz0wq"
      }
    },
    {
      "cell_type": "code",
      "source": [
        ""
      ],
      "metadata": {
        "id": "xhqZZ6Dx-2Wp"
      },
      "execution_count": null,
      "outputs": []
    },
    {
      "cell_type": "markdown",
      "source": [
        "# 1. ***Variables 변수 ***\n",
        "- NUMBERS: assign a number to a & b, type of a = integer ; type of b = float\n",
        "- STRINGS: words / text\n",
        "- list (include various content by using [ ] & ,)\n",
        "- tuple use ( ) insteads of [ ] ; a =(1,2,3), but does not support item assignment\n",
        "- dict (dictionary의 줄임말 ; use of \"{ }\" ; a = key ; \" \" = value), order is not important compares to list ; *key* can be both words and numbers\n",
        "-----------\n",
        "Order of list (ALways starts from 0th in python coding)\n",
        "- both str and int apply the same rule\n",
        "- [6, 7, 8, 9]\n",
        "(6) = 0th ; (7) = 1st ; (8) = 2nd ; (9) = 3rd...\n",
        "- \"list out of range\" error might occurs\n",
        "- Use of \":\"\n",
        "- 1. print all numbers\n",
        "- 2. [adding order] >> print from which number to which number and ALWAYS include the order after the number that needed to print\n",
        "- 3. [ 0 ] = the first number ; [-1] = the last number"
      ],
      "metadata": {
        "id": "1nrIZfnY-dfJ"
      }
    },
    {
      "cell_type": "code",
      "execution_count": null,
      "metadata": {
        "id": "pe4DEk3cyMow",
        "colab": {
          "base_uri": "https://localhost:8080/"
        },
        "outputId": "9a3720e2-2528-4863-820e-721ac9cf3bbf"
      },
      "outputs": [
        {
          "output_type": "stream",
          "name": "stdout",
          "text": [
            "<class 'int'>\n"
          ]
        }
      ],
      "source": [
        "a = 7; print(type(a))"
      ]
    },
    {
      "cell_type": "code",
      "source": [
        "b = 8.3; print(type(b))"
      ],
      "metadata": {
        "colab": {
          "base_uri": "https://localhost:8080/"
        },
        "id": "yWtGcC02AdCO",
        "outputId": "e797874c-af1d-4f45-fed3-19b4a46c7d2f"
      },
      "execution_count": null,
      "outputs": [
        {
          "output_type": "stream",
          "name": "stdout",
          "text": [
            "<class 'float'>\n"
          ]
        }
      ]
    },
    {
      "cell_type": "code",
      "source": [
        "c = 'march2022'; print(type(c))"
      ],
      "metadata": {
        "colab": {
          "base_uri": "https://localhost:8080/"
        },
        "id": "brzViUdxAxE1",
        "outputId": "439f18ed-c4fe-419c-d8a9-f5c550b658cf"
      },
      "execution_count": null,
      "outputs": [
        {
          "output_type": "stream",
          "name": "stdout",
          "text": [
            "<class 'str'>\n"
          ]
        }
      ]
    },
    {
      "cell_type": "code",
      "source": [
        "print(c)"
      ],
      "metadata": {
        "colab": {
          "base_uri": "https://localhost:8080/"
        },
        "id": "JvvqFJVXBXEK",
        "outputId": "b40e7067-0aa6-488d-d245-643ad411a429"
      },
      "execution_count": null,
      "outputs": [
        {
          "output_type": "stream",
          "name": "stdout",
          "text": [
            "2022\n"
          ]
        }
      ]
    },
    {
      "cell_type": "code",
      "source": [
        "a = [18, 19, 20, 21, 22, 23, 24, 25, 26] ;print(type(a))"
      ],
      "metadata": {
        "colab": {
          "base_uri": "https://localhost:8080/"
        },
        "id": "TG60v99YB8Pl",
        "outputId": "55534147-b91a-44b7-dd28-7dffc909ea2a"
      },
      "execution_count": null,
      "outputs": [
        {
          "output_type": "stream",
          "name": "stdout",
          "text": [
            "<class 'list'>\n"
          ]
        }
      ]
    },
    {
      "cell_type": "code",
      "source": [
        "a[1:3]"
      ],
      "metadata": {
        "colab": {
          "base_uri": "https://localhost:8080/"
        },
        "id": "t87gOTcJDlXY",
        "outputId": "f1a9052d-40f0-4878-f020-476b5781147d"
      },
      "execution_count": null,
      "outputs": [
        {
          "output_type": "execute_result",
          "data": {
            "text/plain": [
              "[19, 20]"
            ]
          },
          "metadata": {},
          "execution_count": 30
        }
      ]
    },
    {
      "cell_type": "code",
      "source": [
        "a[:]"
      ],
      "metadata": {
        "colab": {
          "base_uri": "https://localhost:8080/"
        },
        "id": "TOpYi2TREqjK",
        "outputId": "ae1b37ec-a790-4036-944f-3e1c188a2ceb"
      },
      "execution_count": null,
      "outputs": [
        {
          "output_type": "execute_result",
          "data": {
            "text/plain": [
              "[18, 19, 20, 21, 22, 23, 24, 25, 26]"
            ]
          },
          "metadata": {},
          "execution_count": 31
        }
      ]
    },
    {
      "cell_type": "code",
      "source": [
        "a[5:]"
      ],
      "metadata": {
        "colab": {
          "base_uri": "https://localhost:8080/"
        },
        "id": "Hd1xwRIgFZZ9",
        "outputId": "2580b436-5349-4dd5-ab6c-61c7c57560c0"
      },
      "execution_count": null,
      "outputs": [
        {
          "output_type": "execute_result",
          "data": {
            "text/plain": [
              "[23, 24, 25, 26]"
            ]
          },
          "metadata": {},
          "execution_count": 32
        }
      ]
    },
    {
      "cell_type": "code",
      "source": [
        "a[:5]"
      ],
      "metadata": {
        "colab": {
          "base_uri": "https://localhost:8080/"
        },
        "id": "k4IDQGjMF49P",
        "outputId": "68ff0295-34ad-4f89-ab21-755a20548bf6"
      },
      "execution_count": null,
      "outputs": [
        {
          "output_type": "execute_result",
          "data": {
            "text/plain": [
              "[18, 19, 20, 21, 22]"
            ]
          },
          "metadata": {},
          "execution_count": 36
        }
      ]
    },
    {
      "cell_type": "code",
      "source": [
        "a[1:-1]"
      ],
      "metadata": {
        "colab": {
          "base_uri": "https://localhost:8080/"
        },
        "id": "r5eSD_PpFcKM",
        "outputId": "12919242-1e7a-4306-9090-2fbe0b669f4f"
      },
      "execution_count": null,
      "outputs": [
        {
          "output_type": "execute_result",
          "data": {
            "text/plain": [
              "[19, 20, 21, 22, 23, 24, 25]"
            ]
          },
          "metadata": {},
          "execution_count": 33
        }
      ]
    },
    {
      "cell_type": "code",
      "source": [
        "a = [6, 'p', [7, '8']] ; print(type (a)) ; print(a[0]) ; print(a[2])"
      ],
      "metadata": {
        "colab": {
          "base_uri": "https://localhost:8080/"
        },
        "id": "TW0OmcLuCLXA",
        "outputId": "d824c81e-20bc-49cf-9056-8da4f2887dc4"
      },
      "execution_count": null,
      "outputs": [
        {
          "output_type": "stream",
          "name": "stdout",
          "text": [
            "<class 'list'>\n",
            "6\n",
            "[7, '8']\n"
          ]
        }
      ]
    },
    {
      "cell_type": "code",
      "source": [
        "a = {\"a\" : \"python\", \"b\" : \"coding\" , \"c\" : 2022}"
      ],
      "metadata": {
        "id": "wNGx7SCbFn_U"
      },
      "execution_count": null,
      "outputs": []
    },
    {
      "cell_type": "code",
      "source": [
        "a[\"a\"]"
      ],
      "metadata": {
        "colab": {
          "base_uri": "https://localhost:8080/",
          "height": 35
        },
        "id": "1KB1HDzlJoHI",
        "outputId": "3e38c70a-8b03-450c-fa9f-c90d5d0e0e9c"
      },
      "execution_count": null,
      "outputs": [
        {
          "output_type": "execute_result",
          "data": {
            "text/plain": [
              "'python'"
            ],
            "application/vnd.google.colaboratory.intrinsic+json": {
              "type": "string"
            }
          },
          "metadata": {},
          "execution_count": 61
        }
      ]
    },
    {
      "cell_type": "markdown",
      "source": [
        "# 1.1 Strings\n",
        "\n",
        "- print = (built-in) function, apply the input command    |  len = function, use to calculate the length of strings\n",
        "- use of ( ) << can be recongnised easily by using ( ) |  UPPER << change the words into upper case\n",
        "-ONLY in the last line, even w/o using print can still apply the command\n",
        "- \"s.find\" >> look for the words in terms of its postion including the spaces in between. \n",
        "- \\n = line break ; s.strip = remove all the whitespace\n",
        "- \"tokens , s.split = make it into list with [ ] & , ; ' ' join = combine them in a snetence form. ; replace = replace a certain word"
      ],
      "metadata": {
        "id": "VybQNWvjLlSg"
      }
    },
    {
      "cell_type": "code",
      "source": [
        "a = 'strings'\n",
        "print(a[0], a[3], a[-1], a[-7])"
      ],
      "metadata": {
        "colab": {
          "base_uri": "https://localhost:8080/"
        },
        "id": "08ECi5nDMwS-",
        "outputId": "38720694-a1a3-43e5-b384-eeaa83c5d986"
      },
      "execution_count": null,
      "outputs": [
        {
          "output_type": "stream",
          "name": "stdout",
          "text": [
            "s i s s\n"
          ]
        }
      ]
    },
    {
      "cell_type": "code",
      "source": [
        "len(a)"
      ],
      "metadata": {
        "colab": {
          "base_uri": "https://localhost:8080/"
        },
        "id": "2lB0ctMvODmX",
        "outputId": "1c890d9c-86f3-4e99-b772-2cf643a2355a"
      },
      "execution_count": null,
      "outputs": [
        {
          "output_type": "execute_result",
          "data": {
            "text/plain": [
              "7"
            ]
          },
          "metadata": {},
          "execution_count": 67
        }
      ]
    },
    {
      "cell_type": "code",
      "source": [
        "a.upper()"
      ],
      "metadata": {
        "colab": {
          "base_uri": "https://localhost:8080/",
          "height": 35
        },
        "id": "ej4H9BCyOaIG",
        "outputId": "b69844da-560f-48eb-fff2-16160469d343"
      },
      "execution_count": null,
      "outputs": [
        {
          "output_type": "execute_result",
          "data": {
            "text/plain": [
              "'STRINGS'"
            ],
            "application/vnd.google.colaboratory.intrinsic+json": {
              "type": "string"
            }
          },
          "metadata": {},
          "execution_count": 69
        }
      ]
    },
    {
      "cell_type": "code",
      "source": [
        "s = ' learning python is really interesting. \\n'\n",
        "s"
      ],
      "metadata": {
        "colab": {
          "base_uri": "https://localhost:8080/",
          "height": 35
        },
        "id": "c-5ZWJDxRRkv",
        "outputId": "4457d4e7-2eda-4ee6-d735-f5a53adff02a"
      },
      "execution_count": null,
      "outputs": [
        {
          "output_type": "execute_result",
          "data": {
            "text/plain": [
              "' learning python is really interesting. \\n'"
            ],
            "application/vnd.google.colaboratory.intrinsic+json": {
              "type": "string"
            }
          },
          "metadata": {},
          "execution_count": 80
        }
      ]
    },
    {
      "cell_type": "code",
      "source": [
        "result = s.find('python')\n",
        "result"
      ],
      "metadata": {
        "colab": {
          "base_uri": "https://localhost:8080/"
        },
        "id": "7FEasDXmRaLp",
        "outputId": "ca25226b-cbea-479c-e18b-2232ef9e68f3"
      },
      "execution_count": null,
      "outputs": [
        {
          "output_type": "execute_result",
          "data": {
            "text/plain": [
              "10"
            ]
          },
          "metadata": {},
          "execution_count": 81
        }
      ]
    },
    {
      "cell_type": "code",
      "source": [
        "s=s.strip()\n",
        "s"
      ],
      "metadata": {
        "colab": {
          "base_uri": "https://localhost:8080/",
          "height": 35
        },
        "id": "3dkvldFrSRHY",
        "outputId": "8be52f8d-c33a-4727-a132-6249985db981"
      },
      "execution_count": null,
      "outputs": [
        {
          "output_type": "execute_result",
          "data": {
            "text/plain": [
              "'learning python is really interesting.'"
            ],
            "application/vnd.google.colaboratory.intrinsic+json": {
              "type": "string"
            }
          },
          "metadata": {},
          "execution_count": 82
        }
      ]
    },
    {
      "cell_type": "code",
      "source": [
        "tokens = s.split(' ')\n",
        "tokens"
      ],
      "metadata": {
        "colab": {
          "base_uri": "https://localhost:8080/"
        },
        "id": "RR5KV0fKTMeL",
        "outputId": "b4a198d1-0b21-4755-9cb0-e4ec562fe6ed"
      },
      "execution_count": null,
      "outputs": [
        {
          "output_type": "execute_result",
          "data": {
            "text/plain": [
              "['learning', 'python', 'is', 'really', 'interesting.']"
            ]
          },
          "metadata": {},
          "execution_count": 84
        }
      ]
    },
    {
      "cell_type": "code",
      "source": [
        "s= ' '.join(tokens)\n",
        "s"
      ],
      "metadata": {
        "colab": {
          "base_uri": "https://localhost:8080/",
          "height": 35
        },
        "id": "cYKIKgASTa2R",
        "outputId": "636e24ef-1a36-4f81-8e86-7a778824e5b5"
      },
      "execution_count": null,
      "outputs": [
        {
          "output_type": "execute_result",
          "data": {
            "text/plain": [
              "'learning python is really interesting.'"
            ],
            "application/vnd.google.colaboratory.intrinsic+json": {
              "type": "string"
            }
          },
          "metadata": {},
          "execution_count": 86
        }
      ]
    },
    {
      "cell_type": "code",
      "source": [
        "s = s.replace ('really' , 'not')\n",
        "s"
      ],
      "metadata": {
        "colab": {
          "base_uri": "https://localhost:8080/",
          "height": 35
        },
        "id": "u9M1_GCjTilI",
        "outputId": "f0b6ba86-a57b-41fa-a7dd-e12da8660ef6"
      },
      "execution_count": null,
      "outputs": [
        {
          "output_type": "execute_result",
          "data": {
            "text/plain": [
              "'learning python is not interesting.'"
            ],
            "application/vnd.google.colaboratory.intrinsic+json": {
              "type": "string"
            }
          },
          "metadata": {},
          "execution_count": 88
        }
      ]
    },
    {
      "cell_type": "markdown",
      "source": [
        "# 2. Functions \n",
        "- functions includes but not limited to print , len etc \n",
        "- can create new functions\n",
        "- can be used to create math equations ( +, -, x, / )\n",
        "\n",
        "\n",
        "- def 정의 function name (input variable 1, variable 2) : \n",
        "- return = **output** variable 1, variable 2\n"
      ],
      "metadata": {
        "id": "HZjTrcNmUIO0"
      }
    },
    {
      "cell_type": "code",
      "source": [
        "def add(x,y):\n",
        "  return x+y\n",
        "\n",
        "def divide(x,y):\n",
        "  z = x/y\n",
        "  return z"
      ],
      "metadata": {
        "id": "PdwmkvPwUMMr"
      },
      "execution_count": null,
      "outputs": []
    },
    {
      "cell_type": "code",
      "source": [
        "z = add (3,6) ; print(z)\n",
        "z = divide (6,3) ; print(z)"
      ],
      "metadata": {
        "colab": {
          "base_uri": "https://localhost:8080/"
        },
        "id": "fPwx6bHRVvWI",
        "outputId": "0c5108ec-596f-4b1b-afff-e950b4176715"
      },
      "execution_count": null,
      "outputs": [
        {
          "output_type": "stream",
          "name": "stdout",
          "text": [
            "9\n",
            "2.0\n"
          ]
        }
      ]
    },
    {
      "cell_type": "markdown",
      "source": [
        "# 3. Syntax (조건문 : if & 반복문: for)\n",
        "\n",
        "- for , in , : and also indent the beginning of the next line which indicates that part is within \"FOR\" \n",
        "- a에 있는 것들을 i로 ***처음부터 하나 하나씩*** 받아서 돌르다 (FOR - LOOP)\n",
        "- After in >> \"range\", can also be considered as creating list\n",
        "\n",
        "***Using IF***\n",
        "- if a is the same as 0, then print it. (=) << SAME | (!=) << NOT THE SAME\n",
        "- also needed to use indent\n",
        "- ELSE: << other condition"
      ],
      "metadata": {
        "id": "xmMmnhp6XTgo"
      }
    },
    {
      "cell_type": "code",
      "source": [
        "a = [5, 6, 7, 8]\n",
        "for i in a: \n",
        "  print (i)"
      ],
      "metadata": {
        "colab": {
          "base_uri": "https://localhost:8080/"
        },
        "id": "xG3V3sJRZlJX",
        "outputId": "acad2e35-91f8-4aa9-d7c3-a74baf22ac5d"
      },
      "execution_count": null,
      "outputs": [
        {
          "output_type": "stream",
          "name": "stdout",
          "text": [
            "5\n",
            "6\n",
            "7\n",
            "8\n"
          ]
        }
      ]
    },
    {
      "cell_type": "code",
      "source": [
        "a = ['C++', 'java', 'python', 'R']\n",
        "for i in range(len(a)) :\n",
        "    print(a[i])"
      ],
      "metadata": {
        "colab": {
          "base_uri": "https://localhost:8080/"
        },
        "id": "An95Ak9gnQMB",
        "outputId": "8bef6bfc-02d1-4dcf-ded6-547590864321"
      },
      "execution_count": null,
      "outputs": [
        {
          "output_type": "stream",
          "name": "stdout",
          "text": [
            "C++\n",
            "java\n",
            "python\n",
            "R\n"
          ]
        }
      ]
    },
    {
      "cell_type": "code",
      "source": [
        "a = 0\n",
        "if a!=0:\n",
        "    print (a)\n",
        "else: \n",
        "    print (a+1)"
      ],
      "metadata": {
        "colab": {
          "base_uri": "https://localhost:8080/"
        },
        "id": "QcIfviwSpB8B",
        "outputId": "d96a9e18-00a1-4136-eca0-c4c97b13f94a"
      },
      "execution_count": null,
      "outputs": [
        {
          "output_type": "stream",
          "name": "stdout",
          "text": [
            "1\n"
          ]
        }
      ]
    },
    {
      "cell_type": "code",
      "source": [
        "for i in range(1,3):\n",
        "    for j in range (3,5) :\n",
        "        print (i*j)"
      ],
      "metadata": {
        "colab": {
          "base_uri": "https://localhost:8080/"
        },
        "id": "BVY9ZNpYp8Kl",
        "outputId": "e3d300ae-0163-456a-e35d-4cbd4e0883c6"
      },
      "execution_count": null,
      "outputs": [
        {
          "output_type": "stream",
          "name": "stdout",
          "text": [
            "3\n",
            "4\n",
            "6\n",
            "8\n"
          ]
        }
      ]
    },
    {
      "cell_type": "markdown",
      "source": [
        "?? WHY 3 4 6 8 ??\n",
        "- range (4) >> [0, 1, 2, 3]\n",
        "- range (1,3) >> [1,2]\n",
        "- range (3,5) >> [3, 4]\n",
        "\n",
        "hence:\n",
        "- (1,3) = [1,2]\n",
        "- (3,5) = [3,4]\n",
        "- (multiply each number in i & j respectively) \n",
        "- 1: i = 1 ; j = 3 > 1*3 = 3\n",
        "- 2: i = 1 ; j = 4 > 1*4 = 4\n",
        "- 3: i = 2 ; j = 3 > 2*3 = 6\n",
        "- 4: i = 2 ; j = 4 > 2*4 = 8"
      ],
      "metadata": {
        "id": "5jTKcoPjqMAw"
      }
    },
    {
      "cell_type": "code",
      "source": [
        "for i in range (1,3) : \n",
        "    for j in range (3,5):\n",
        "      if j >=4: \n",
        "        print(i*j)"
      ],
      "metadata": {
        "colab": {
          "base_uri": "https://localhost:8080/"
        },
        "id": "J2fNpVMCsPBq",
        "outputId": "9d248a19-bbe3-45ae-e70f-ca6c4aff71ef"
      },
      "execution_count": null,
      "outputs": [
        {
          "output_type": "stream",
          "name": "stdout",
          "text": [
            "4\n",
            "8\n"
          ]
        }
      ]
    },
    {
      "cell_type": "markdown",
      "source": [
        "?? why 4 8 ??\n",
        "- expected result : print (i*j) only if j is \"greater or equal than 4\" , so \"3\" cannot be used in this case\n",
        "\n",
        "- 1: i = 1 ; j = 4 > 1*4 = 4\n",
        "- 2: i = 2 ; j = 4 > 2*4 = 8"
      ],
      "metadata": {
        "id": "zzJcIj8Vsa_k"
      }
    },
    {
      "cell_type": "markdown",
      "source": [
        "# **3.1 List Comprehension**\n",
        "\n",
        "- 1) get all the numbers in a to i accordingly and print only if the number is greater or equal to 2, therefore, only print 2,3,4\n",
        "\n",
        "- 2) get all the numbers in a to i accordingly and print only if the characters in the list in longer than 3 \n",
        "\n",
        "- 3) *Dict Comprehension*\n",
        " - i in [range (4)] = i get the list [0, 1, 2, 3], and i is 0\n",
        " - { a[0] : b[0] , a[1]: b[1],......etc}"
      ],
      "metadata": {
        "id": "3l8R5uzDt0aj"
      }
    },
    {
      "cell_type": "code",
      "source": [
        "a = [1, 2, 3 , 4]\n",
        "b= [i for i in a if i >=2]\n",
        "b"
      ],
      "metadata": {
        "colab": {
          "base_uri": "https://localhost:8080/"
        },
        "id": "qxcxRmt1t4WC",
        "outputId": "3fce2d06-fd9e-4377-980b-1726ae45f981"
      },
      "execution_count": null,
      "outputs": [
        {
          "output_type": "execute_result",
          "data": {
            "text/plain": [
              "[2, 3, 4]"
            ]
          },
          "metadata": {},
          "execution_count": 114
        }
      ]
    },
    {
      "cell_type": "code",
      "source": [
        "a = ['C++', 'python', 'java', 'R']\n",
        "b = [ i for i in a if len(i) >=3]\n",
        "b"
      ],
      "metadata": {
        "colab": {
          "base_uri": "https://localhost:8080/"
        },
        "id": "b-1ys2ztuOi9",
        "outputId": "7f7aa380-19cc-4ac8-cd15-d994fca45a42"
      },
      "execution_count": null,
      "outputs": [
        {
          "output_type": "execute_result",
          "data": {
            "text/plain": [
              "['C++', 'python', 'java']"
            ]
          },
          "metadata": {},
          "execution_count": 116
        }
      ]
    },
    {
      "cell_type": "code",
      "source": [
        "a = [ 'C++', 'python', 'java', 'R']\n",
        "b = [ 1, 2, 3, 4]\n",
        "c= {a[i]: b[i] for i in range(4)}\n",
        "c"
      ],
      "metadata": {
        "colab": {
          "base_uri": "https://localhost:8080/"
        },
        "id": "ZlUv-BFTuoS7",
        "outputId": "1fd4f7dd-1bc0-409e-af50-ea6f39eedefd"
      },
      "execution_count": null,
      "outputs": [
        {
          "output_type": "execute_result",
          "data": {
            "text/plain": [
              "{'C++': 1, 'R': 4, 'java': 3, 'python': 2}"
            ]
          },
          "metadata": {},
          "execution_count": 121
        }
      ]
    },
    {
      "cell_type": "markdown",
      "source": [
        "# 4. Packages \n",
        "\n",
        "- install (non famous packages) = start from scratch, installation needed\n",
        "- import (ram) = all set, just import them it like numpy\n",
        "- built in =  example like print, len ; those already there and ready to use"
      ],
      "metadata": {
        "id": "_tJKiuHqyDiW"
      }
    },
    {
      "cell_type": "markdown",
      "source": [
        "# 4.1 Import (Numpy)\n",
        "\n",
        "- Within numpy, there are different directories like functions.... need to assign the specific functions insides diff. directories\n",
        "\n",
        "- Numpy: generate random numbers, create rows and colums, create stat using those numbers \n",
        "\n",
        "- Very important for AI & Data Science\n",
        "\n",
        "abbrev for numpy command\n",
        "- \"import numpy as np\"  | n = np.random.randn (3) << gen 3 random numbers"
      ],
      "metadata": {
        "id": "e2kcdt4LzO9V"
      }
    },
    {
      "cell_type": "code",
      "source": [
        "import numpy"
      ],
      "metadata": {
        "id": "KfDfhkusyOqA"
      },
      "execution_count": null,
      "outputs": []
    },
    {
      "cell_type": "code",
      "source": [
        "numpy. random. randn(5)"
      ],
      "metadata": {
        "colab": {
          "base_uri": "https://localhost:8080/"
        },
        "id": "ScRnJoFE0q_0",
        "outputId": "8c2ede75-e749-4110-8395-fbc9f43e2229"
      },
      "execution_count": null,
      "outputs": [
        {
          "output_type": "execute_result",
          "data": {
            "text/plain": [
              "array([ 1.12931876,  1.80537173,  0.28251868,  0.33272406, -1.07864982])"
            ]
          },
          "metadata": {},
          "execution_count": 125
        }
      ]
    },
    {
      "cell_type": "code",
      "source": [
        "import numpy as np \n",
        "n = np.random.randn (80)\n",
        "n"
      ],
      "metadata": {
        "id": "T6Pp0ND315pa"
      },
      "execution_count": null,
      "outputs": []
    },
    {
      "cell_type": "markdown",
      "source": [
        "# 4.1.1 Use of Numpy to create nd array\n",
        "\n",
        "- #1: Arrays = Matrix = rectangular numbers, arrays / table\n",
        "  - different forms \"n-dimesion arrays\" (1D array = only 1 line ; 2D arrays = including rows and colums; 3D...4D... 5D...)\n",
        "\n",
        "- function =np.arrays > 뒤에 [list], cannot calculate, change list to array\n",
        "- class = np에 재공한 특수한 변수"
      ],
      "metadata": {
        "id": "FnFwkgy-5Bmp"
      }
    },
    {
      "cell_type": "code",
      "source": [
        "import numpy as np"
      ],
      "metadata": {
        "id": "8_iO8Yv27Y7E"
      },
      "execution_count": null,
      "outputs": []
    },
    {
      "cell_type": "code",
      "source": [
        "x= np.array([1,2,3])\n",
        "print (x)\n",
        "print(type(x))\n",
        "print(x.shape)"
      ],
      "metadata": {
        "colab": {
          "base_uri": "https://localhost:8080/"
        },
        "id": "Zjh7DN4S7d9U",
        "outputId": "11e17ca2-ccb7-442b-efab-fcd024b501e7"
      },
      "execution_count": null,
      "outputs": [
        {
          "output_type": "stream",
          "name": "stdout",
          "text": [
            "[1 2 3]\n",
            "<class 'numpy.ndarray'>\n",
            "(3,)\n"
          ]
        }
      ]
    },
    {
      "cell_type": "markdown",
      "source": [
        "From 0 to 10, print the numbers within this scale in 2 increment. \n",
        "\n",
        "- 1D array with 5 items"
      ],
      "metadata": {
        "id": "T3739e0a_kSx"
      }
    },
    {
      "cell_type": "code",
      "source": [
        "x= np.arange(0,10,2)\n",
        "print (x)\n",
        "print (type(x))\n",
        "print (x.shape)"
      ],
      "metadata": {
        "colab": {
          "base_uri": "https://localhost:8080/"
        },
        "id": "w3Uj_axQ-nmY",
        "outputId": "a20622db-d06b-4d92-9ad5-85713d662cc6"
      },
      "execution_count": null,
      "outputs": [
        {
          "output_type": "stream",
          "name": "stdout",
          "text": [
            "[0 2 4 6 8]\n",
            "<class 'numpy.ndarray'>\n",
            "(5,)\n"
          ]
        }
      ]
    },
    {
      "cell_type": "markdown",
      "source": [
        "np.linspace = linear space\n",
        "- from 0 to 10 (including 10), linear하게 create 6 numbers\n",
        "- 1D array with 6 items"
      ],
      "metadata": {
        "id": "RD80GkoDAR7E"
      }
    },
    {
      "cell_type": "code",
      "source": [
        "x = np.linspace (0, 10, 6)\n",
        "print(x)\n",
        "print(type(x))\n",
        "print (x.shape)"
      ],
      "metadata": {
        "colab": {
          "base_uri": "https://localhost:8080/"
        },
        "id": "HcJa4JwvAIHu",
        "outputId": "544ca502-bbb8-4f02-bd4f-9b28f7ad26e5"
      },
      "execution_count": null,
      "outputs": [
        {
          "output_type": "stream",
          "name": "stdout",
          "text": [
            "[ 0.  2.  4.  6.  8. 10.]\n",
            "<class 'numpy.ndarray'>\n",
            "(6,)\n"
          ]
        }
      ]
    },
    {
      "cell_type": "markdown",
      "source": [
        "2D array, 2 rows and 3 columns = (2, 3)\n",
        "- [1 2 3] \n",
        "- [4 5 6]\n",
        "\n"
      ],
      "metadata": {
        "id": "7EcoGpViBFZi"
      }
    },
    {
      "cell_type": "code",
      "source": [
        "\n",
        "x= np.array([[1,2,3], [4,5,6]])\n",
        "print (x)\n",
        "print (type(x))\n",
        "print (x.shape)"
      ],
      "metadata": {
        "colab": {
          "base_uri": "https://localhost:8080/"
        },
        "id": "WuF5gtXXAxy1",
        "outputId": "273def35-7c2d-4359-b6d2-59b955feb0b2"
      },
      "execution_count": null,
      "outputs": [
        {
          "output_type": "stream",
          "name": "stdout",
          "text": [
            "[[1 2 3]\n",
            " [4 5 6]]\n",
            "<class 'numpy.ndarray'>\n",
            "(2, 3)\n"
          ]
        }
      ]
    },
    {
      "cell_type": "markdown",
      "source": [
        "3D array:\n",
        "- [[1 2 3] , [4 5 6]] = 2D array\n",
        "- [[[ ]]] = 3D array\n",
        "\n",
        "- (2, 2, 3) \n",
        " - first 2 = the whole 2 sets 123456 & 789101112 \n",
        " - second 2 = 123 & 456\n",
        " - last 3 = no. of columns \n",
        "\n",
        " -----------\n",
        " x = np.ones([2,2,3]) \n",
        " - 2 by 2 by 3의 1로 채워진 3D 함수를 만드는 뜻\n",
        "\n",
        " x = np.zeros([2,2,3])\n",
        "- 2 by 2 by 3의 0으로 채원진 함수를 만드는 뜻\n",
        "\n",
        " x = reshape(3,2,2)\n",
        " - reshape the array from [2,2,3] to [3,2,2]"
      ],
      "metadata": {
        "id": "FKMQKFfDBvoJ"
      }
    },
    {
      "cell_type": "code",
      "source": [
        "x= np.array([[[1,2,3], [4,5,6]], [[7,8,9], [10,11,12]]])\n",
        "print(x)\n",
        "print(type(x))\n",
        "print(x.shape)"
      ],
      "metadata": {
        "colab": {
          "base_uri": "https://localhost:8080/"
        },
        "id": "1q35WDvRBd-d",
        "outputId": "7a1ee39d-3e1e-47aa-f3e0-724864ef800e"
      },
      "execution_count": null,
      "outputs": [
        {
          "output_type": "stream",
          "name": "stdout",
          "text": [
            "[[[ 1  2  3]\n",
            "  [ 4  5  6]]\n",
            "\n",
            " [[ 7  8  9]\n",
            "  [10 11 12]]]\n",
            "<class 'numpy.ndarray'>\n",
            "(2, 2, 3)\n"
          ]
        }
      ]
    },
    {
      "cell_type": "markdown",
      "source": [
        "# 4.1.2 Create random numbers\n",
        "\n",
        "- 149 : 어떤 distrubution에서 array를 만드는 것\n",
        " - ( 2 by 3 by 4의 nd array를 만든다)\n",
        " - 2 = the 2 sets ; 3 = 3 rows ; 4 = 4 columns = 3D array\n",
        "\n",
        " ---------\n",
        " x = np.random.normal(0,1,100) << 1D array\n",
        "  - create 100 random no. \n",
        "  - standard deviation\n",
        " \n",
        " plt. hist(x, bins =10)\n",
        " = matplotlib, use to create histogram, bins = the number of bars, in thise case, it'd be 10. "
      ],
      "metadata": {
        "id": "bS8L3bf1EtHL"
      }
    },
    {
      "cell_type": "code",
      "source": [
        "np.random.normal(0, 1, [2,3,4])"
      ],
      "metadata": {
        "colab": {
          "base_uri": "https://localhost:8080/"
        },
        "id": "1jP6DWAMExyb",
        "outputId": "80303e7a-c042-4580-f5ee-7dad79973582"
      },
      "execution_count": null,
      "outputs": [
        {
          "output_type": "execute_result",
          "data": {
            "text/plain": [
              "array([[[ 0.66536099,  0.79526088,  0.72109277, -0.10022394],\n",
              "        [ 1.42261348, -1.55479221,  0.47718126, -0.07501412],\n",
              "        [ 1.58472113, -1.85697279,  0.84458381,  0.12151781]],\n",
              "\n",
              "       [[ 2.19249541, -0.42359288, -0.13896778, -1.60055824],\n",
              "        [ 0.82398788,  0.63593075, -1.21584644, -0.28162992],\n",
              "        [ 0.44532129, -0.7271178 , -0.43544192,  2.41039289]]])"
            ]
          },
          "metadata": {},
          "execution_count": 149
        }
      ]
    },
    {
      "cell_type": "code",
      "source": [
        " x = np.random.normal(0,1,100)\n",
        " x"
      ],
      "metadata": {
        "id": "1XRhnJ-AG9ar"
      },
      "execution_count": null,
      "outputs": []
    },
    {
      "cell_type": "code",
      "source": [
        "import matplotlib.pyplot as plt\n",
        "plt.hist(x, bins =10)"
      ],
      "metadata": {
        "colab": {
          "base_uri": "https://localhost:8080/",
          "height": 352
        },
        "id": "yJp4E2QGHE6T",
        "outputId": "dad4e18b-c7d3-4c3c-d59e-623ecb33df33"
      },
      "execution_count": null,
      "outputs": [
        {
          "output_type": "execute_result",
          "data": {
            "text/plain": [
              "(array([ 1.,  2.,  9., 18., 19., 22., 17.,  7.,  4.,  1.]),\n",
              " array([-2.75896386, -2.21328047, -1.66759709, -1.12191371, -0.57623032,\n",
              "        -0.03054694,  0.51513644,  1.06081983,  1.60650321,  2.15218659,\n",
              "         2.69786998]),\n",
              " <a list of 10 Patch objects>)"
            ]
          },
          "metadata": {},
          "execution_count": 153
        },
        {
          "output_type": "display_data",
          "data": {
            "text/plain": [
              "<Figure size 432x288 with 1 Axes>"
            ],
            "image/png": "[encoded data removed]"
          },
          "metadata": {
            "needs_background": "light"
          }
        }
      ]
    },
    {
      "cell_type": "markdown",
      "source": [
        "# 4.2 Import (Matplotlib)\n",
        "- a package that visualise the numbers \n",
        "- the histogram changes according to the numbers' values\n",
        "- X-AXIS = the numbers ; Y-AXIS = frequency of the number\n",
        "- same as numpy ; the import method has a abbrev. \n",
        " - a) \"import matplotlib.pyplot as plt\"\n",
        " - b) \"from matplotlib import pyplot; pyplot. hist(n)\""
      ],
      "metadata": {
        "id": "UqWiytJL2Jhx"
      }
    },
    {
      "cell_type": "code",
      "source": [
        "import matplotlib\n",
        "matplotlib.pyplot.hist(n)"
      ],
      "metadata": {
        "id": "T0Ity4uj2Vy5"
      },
      "execution_count": null,
      "outputs": []
    },
    {
      "cell_type": "code",
      "source": [
        "import matplotlib.pyplot\n",
        "import matplotlib.pyplot as plt\n",
        "plt. hist(n)"
      ],
      "metadata": {
        "id": "JJXFSMbo3xU_"
      },
      "execution_count": null,
      "outputs": []
    },
    {
      "cell_type": "code",
      "source": [
        "from matplotlib import pyplot\n",
        "pyplot. hist(n)"
      ],
      "metadata": {
        "id": "cOad9SKz4VqI"
      },
      "execution_count": null,
      "outputs": []
    },
    {
      "cell_type": "markdown",
      "source": [
        "# 4.3 Generate Sine Curve\n",
        "\n",
        "A) radiant degree\n",
        "- theta1 = from 0 to 2*np,pi, create 100 numbers linearly = 360\n",
        "- np.pi / pi = 3.14... include the value of pi inside the numpy\n",
        "- theta2 = from 0 to 2*np.pi, create 100 numbers lineraly + 1/2 of np.pi (pi)   = 360 + 90 = 450 \n",
        "\n",
        "B) Angle \n",
        " - np.sin = function \n",
        " - the curve displayed just like 90 degree\n",
        "\n",
        "C) In / Output \n",
        " - theta 1 & theta = input \n",
        " - s1 & s2 = output \n",
        "-------------\n",
        "- How many numbers in theta 1? 100~ \n",
        "- What dimesion of array is this? 1D array\n",
        "- How many number in s1? 100~  \n",
        "\n",
        "D) plt.subplot(2,1,1)\n",
        " - create the sin curve in the form of 2 by 1 by 1 \n",
        " - 2 = 2 rows = 2 (curve) lines\n",
        " - 1 = 1 column\n",
        " - 1 = draw the sin curve of #1 \n",
        "\n",
        " E) plt.plot = (functions)\n",
        "- need to have 2 inputs! ( value of x and y)  \n",
        "- '.' > draw the curve by using . / can use other symbols such as \"-\" "
      ],
      "metadata": {
        "id": "aUYsVCHUHc98"
      }
    },
    {
      "cell_type": "code",
      "source": [
        "plt.figure()\n",
        "\n",
        "theta1 = np.linspace(0,2*np.pi, 100)\n",
        "s1 = np.sin(theta1)\n",
        "theta2 = np.linspace(0, 2*np.pi, 100) + np.pi/2\n",
        "s2 = np.sin(theta2)\n",
        "\n",
        "plt.subplot(2,1,1)\n",
        "plt.plot(theta1, s1, '.')\n",
        "plt.subplot(2, 1, 2) \n",
        "plt.plot(theta2, s2, '-')"
      ],
      "metadata": {
        "colab": {
          "base_uri": "https://localhost:8080/",
          "height": 282
        },
        "id": "DLUgiT9W4zji",
        "outputId": "f59b2937-07e0-4336-c17e-e3eb04ad83d2"
      },
      "execution_count": null,
      "outputs": [
        {
          "output_type": "execute_result",
          "data": {
            "text/plain": [
              "[<matplotlib.lines.Line2D at 0x7fb88c94ec90>]"
            ]
          },
          "metadata": {},
          "execution_count": 161
        },
        {
          "output_type": "display_data",
          "data": {
            "text/plain": [
              "<Figure size 432x288 with 2 Axes>"
            ],
            "image/png": "[encoded data removed]"
          },
          "metadata": {
            "needs_background": "light"
          }
        }
      ]
    },
    {
      "cell_type": "markdown",
      "source": [
        "# 4.4 Correlation , Coefficient\n",
        "\n",
        "A) What is correlation coefficient? \n",
        "compare and show the distribution of proportion within a group. For instance: exam results of a class. \n",
        "\n",
        "coef 값이 -1부터 < r < 1까지 있음\n",
        "- r: if it's \"+\" = 정비 ; : \"-\" = 반비\n",
        "- 더 tight하게 하면 = 상반과계 높다는 뜻 \n",
        "- hence: the absolute vlaue of r is closer to 1 \n",
        "- the closethe number to 1 , the shape of corrlation will be \"thinner\". \n",
        "- the closer the number to zero, the shpare of correlation will be like a U-shape. \n",
        "\n",
        "------------\n",
        "\n",
        "- First sin curve = s1 \n",
        "- Second sin curve = s2\n",
        "- Using the value to create the correlation.\n",
        "\n",
        "4개 숫자 중에:\n",
        "- 첫번째하고 마지막이 무조건 1 나왔으니까 신경 쓰지 않아도 됨\n",
        "- 2번째하고 3번째 숫자는 똑 같아서 하나만 집중하면 됨\n",
        "- 2.419____e-17 ; \"e-17\" = 10 to the power of -17, 2.41915449 x 10 to the power of -17 = 0\n",
        "\n",
        "∴ the correlation od s1 and s2 = 0 "
      ],
      "metadata": {
        "id": "DSPlI3HLNH12"
      }
    },
    {
      "cell_type": "code",
      "source": [
        "np. corrcoef(s1, s2)"
      ],
      "metadata": {
        "colab": {
          "base_uri": "https://localhost:8080/"
        },
        "id": "Or3Ycsa-NEns",
        "outputId": "74f40b55-a71b-4e9c-a182-9c8b878ceaa2"
      },
      "execution_count": null,
      "outputs": [
        {
          "output_type": "execute_result",
          "data": {
            "text/plain": [
              "array([[1.00000000e+00, 2.41915449e-17],\n",
              "       [2.41915449e-17, 1.00000000e+00]])"
            ]
          },
          "metadata": {},
          "execution_count": 162
        }
      ]
    }
  ]
}