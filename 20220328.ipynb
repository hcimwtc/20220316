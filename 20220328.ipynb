{
  "nbformat": 4,
  "nbformat_minor": 0,
  "metadata": {
    "colab": {
      "name": "20220328.ipynb",
      "provenance": [],
      "collapsed_sections": [],
      "authorship_tag": "ABX9TyMhU+MnWWeZubSBwwrddSMU",
      "include_colab_link": true
    },
    "kernelspec": {
      "name": "python3",
      "display_name": "Python 3"
    },
    "language_info": {
      "name": "python"
    }
  },
  "cells": [
    {
      "cell_type": "markdown",
      "metadata": {
        "id": "view-in-github",
        "colab_type": "text"
      },
      "source": [
        "<a href=\"https://colab.research.google.com/github/hcimwtc/ENGL437_22Spring/blob/main/20220328.ipynb\" target=\"_parent\"><img src=\"https://colab.research.google.com/assets/colab-badge.svg\" alt=\"Open In Colab\"/></a>"
      ]
    },
    {
      "cell_type": "code",
      "execution_count": null,
      "metadata": {
        "id": "F9NSdrXAbrdD"
      },
      "outputs": [],
      "source": [
        "!pip install gradio\n",
        "import gradio as gr\n",
        "import requests\n",
        "import pandas as pd"
      ]
    },
    {
      "cell_type": "code",
      "source": [
        "URL = ('http://apis.data.go.kr/1262000/CountryOverseasArrivalsService/'\n",
        "      'getCountryOverseasArrivalsList?'\n",
        "      '&pageNo=1'\n",
        "      '&numOfRows=30'\n",
        "      '&returnType=json'\n",
        "      '&serviceKey=p55lMkuXQ7ey3YZXFYzEBAxBnMMQfolcXcXruLSQQEhtI1bDAcR%2BLSYhJ3i5xqZYcIzTq0FW%2BdiExXyKztLRdQ%3D%3D')\n",
        "\n",
        "response = requests.get(URL)"
      ],
      "metadata": {
        "id": "X2fkjtpvbxzy"
      },
      "execution_count": 13,
      "outputs": []
    },
    {
      "cell_type": "code",
      "source": [
        "response"
      ],
      "metadata": {
        "id": "kyte6ckZgOr_"
      },
      "execution_count": null,
      "outputs": []
    },
    {
      "cell_type": "code",
      "source": [
        "r = response.json()\n",
        "r"
      ],
      "metadata": {
        "id": "YMjr6ZmxcG9p"
      },
      "execution_count": null,
      "outputs": []
    },
    {
      "cell_type": "code",
      "source": [
        "print(type(r))"
      ],
      "metadata": {
        "id": "bLmPB2f1g_no"
      },
      "execution_count": null,
      "outputs": []
    },
    {
      "cell_type": "code",
      "source": [
        "items = r['data']\n",
        "items"
      ],
      "metadata": {
        "id": "fMGoR6HehES0"
      },
      "execution_count": null,
      "outputs": []
    },
    {
      "cell_type": "code",
      "source": [
        "import pandas as pd\n",
        "country_eng_nm = [item['country_eng_nm'] for item in items]\n",
        "country_iso_alp2 = [item['country_iso_alp2'] for item in items]\n",
        "country_nm = [item['country_nm'] for item in items]\n",
        "notice_id = [item['notice_id'] for item in items]\n",
        "title = [item['title'] for item in items]\n",
        "wrt_dt = [item ['wrt_dt'] for item in items]\n",
        "\n",
        "country_eng_nm = pd.Series(country_eng_nm)\n",
        "country_iso_alp2 = pd.Series(country_iso_alp2)\n",
        "country_nm = pd.Series(country_nm)\n",
        "notice_id = pd.Series(notice_id)\n",
        "title = pd.Series(title)\n",
        "wrt_dt = pd.Series(wrt_dt)\n",
        "\n",
        "df = pd.DataFrame({'ENG': country_eng_nm, 'Code': country_iso_alp2, 'KOR' : country_nm, 'Notice ID' : notice_id, 'Title' : title, 'Last Updated Date' : wrt_dt })"
      ],
      "metadata": {
        "id": "5vRgJEfLjTuG"
      },
      "execution_count": 18,
      "outputs": []
    },
    {
      "cell_type": "code",
      "source": [
        "df"
      ],
      "metadata": {
        "id": "_yLez6zDxH-U"
      },
      "execution_count": null,
      "outputs": []
    },
    {
      "cell_type": "code",
      "source": [
        "def test(country):\n",
        "  URL = ('http://apis.data.go.kr/1262000/CountryOverseasArrivalsService/'\n",
        "      'getCountryOverseasArrivalsList?'\n",
        "      '&pageNo=1'\n",
        "      '&numOfRows=30'\n",
        "      '&returnType=json'\n",
        "      '&serviceKey=p55lMkuXQ7ey3YZXFYzEBAxBnMMQfolcXcXruLSQQEhtI1bDAcR%2BLSYhJ3i5xqZYcIzTq0FW%2BdiExXyKztLRdQ%3D%3D')\n",
        "\n",
        "  response = requests.get(URL)\n",
        "  r = response.json()\n",
        "  items = r['data']\n",
        "\n",
        "  country_eng_nm = [item['country_eng_nm'] for item in items]\n",
        "  country_iso_alp2 = [item['country_iso_alp2'] for item in items]\n",
        "  country_nm = [item['country_nm'] for item in items]\n",
        "  notice_id = [item['notice_id'] for item in items]\n",
        "  title = [item['title'] for item in items]\n",
        "\n",
        "  wrt_dt = [item ['wrt_dt'] for item in items]\n",
        "\n",
        "  country_eng_nm = pd.Series(country_eng_nm)\n",
        "  country_iso_alp2 = pd.Series(country_iso_alp2)\n",
        "  country_nm = pd.Series(country_nm)\n",
        "  notice_id = pd.Series(notice_id)\n",
        "  title = pd.Series(title)\n",
        "  wrt_dt = pd.Series(wrt_dt)\n",
        "  \n",
        "  df = pd.DataFrame({'ENG': country_eng_nm, 'Code': country_iso_alp2, 'KOR' : country_nm,'Notice ID' : notice_id, 'Title' : title, 'Last Updated Date' : wrt_dt })\n",
        "  return df"
      ],
      "metadata": {
        "id": "09lIhpKXp9gT"
      },
      "execution_count": 21,
      "outputs": []
    },
    {
      "cell_type": "code",
      "source": [
        "iface = gr.Interface(test, gr.inputs.Dropdown(['CLick to See the Countries List']), outputs=['dataframe'])\n",
        "iface.launch(debug=True)"
      ],
      "metadata": {
        "colab": {
          "base_uri": "https://localhost:8080/",
          "height": 591
        },
        "id": "HEijgahqn6aP",
        "outputId": "67fe4b6c-1e2a-4faf-8642-6e896eba1b5f"
      },
      "execution_count": null,
      "outputs": [
        {
          "output_type": "stream",
          "name": "stdout",
          "text": [
            "Colab notebook detected. This cell will run indefinitely so that you can see errors and logs. To turn off, set debug=False in launch().\n",
            "Running on public URL: https://21252.gradio.app\n",
            "\n",
            "This share link expires in 72 hours. For free permanent hosting, check out Spaces (https://huggingface.co/spaces)\n"
          ]
        },
        {
          "output_type": "display_data",
          "data": {
            "text/plain": [
              "<IPython.lib.display.IFrame at 0x7f6dbf3f8290>"
            ],
            "text/html": [
              "\n",
              "        <iframe\n",
              "            width=\"900\"\n",
              "            height=\"500\"\n",
              "            src=\"https://21252.gradio.app\"\n",
              "            frameborder=\"0\"\n",
              "            allowfullscreen\n",
              "        ></iframe>\n",
              "        "
            ]
          },
          "metadata": {}
        }
      ]
    }
  ]
}